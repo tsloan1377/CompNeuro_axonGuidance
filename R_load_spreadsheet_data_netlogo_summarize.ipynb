{
 "cells": [
  {
   "cell_type": "markdown",
   "metadata": {},
   "source": [
    "# Read csv files and plot the results\n",
    "\n",
    "A basic script in R to:\n",
    " - Load data output from Netlogo behaviour space\n",
    "     - In this case, a spreadsheet wouldn't work because there were more rows than could be loaded into OO Calc\n",
    "     - The spreadsheet output is machine readable, but not really human readable (100 repetitions).\n",
    " - Make simple summary calculations\n",
    " - Plot the data\n",
    " - Format in rows and columns for a specific purpos (in this case, to load into graphpad prism)\n",
    " - Takes input from two files, processes them identically, and compares the data on the same plot."
   ]
  },
  {
   "cell_type": "markdown",
   "metadata": {},
   "source": [
    "### Initializing variables and pre-allocating arrays."
   ]
  },
  {
   "cell_type": "markdown",
   "metadata": {},
   "source": [
    "##### Read the csv files"
   ]
  },
  {
   "cell_type": "code",
   "execution_count": 39,
   "metadata": {
    "collapsed": true
   },
   "outputs": [],
   "source": [
    "# Clear all\n",
    "rm(list=ls());\n",
    "fileName1 = \"cue1_2E_1I_2RR_4xCue_1000reps_csv.csv\"\n",
    "fileName2 = \"cue2_2E_1I_2RR_4xCue_1000reps_csv.csv\"\n",
    "data1 =read.csv(fileName1,sep = \",\",stringsAsFactors=FALSE) # Use \",\" for long spreadsheets outputted from Word\n",
    "data2 =read.csv(fileName2,sep = \",\",stringsAsFactors=FALSE)"
   ]
  },
  {
   "cell_type": "markdown",
   "metadata": {},
   "source": [
    "##### Initialize global variables for reading the imported data"
   ]
  },
  {
   "cell_type": "code",
   "execution_count": 40,
   "metadata": {
    "collapsed": true
   },
   "outputs": [],
   "source": [
    "numLevelsVar1=3\n",
    "numLevelsVar2=1\n",
    "nIts=100 # Number of iterations\n",
    "numReps=1000 # Number of repetitions\n",
    "rowOffset=16 \n",
    "frontOffset=0\n",
    "backOffset=1\n",
    "gcfcOffset=2\n",
    "ratioOffset=3\n",
    "setWidth=4\n",
    "temp=rep(0,numReps) # Size needs to be consistent with number of repetitions"
   ]
  },
  {
   "cell_type": "markdown",
   "metadata": {},
   "source": [
    "##### Create arrays to store summary calculations"
   ]
  },
  {
   "cell_type": "code",
   "execution_count": 41,
   "metadata": {
    "collapsed": true
   },
   "outputs": [],
   "source": [
    "someData <- rep(0, nIts*numLevelsVar1*numLevelsVar2);\n",
    "data1array <- array(someData, c(nIts, numLevelsVar1, numLevelsVar2));  \n",
    "data2array <- array(someData, c(nIts, numLevelsVar1, numLevelsVar2));  \n",
    "data1sd <- array(someData, c(nIts, numLevelsVar1, numLevelsVar2));  \n",
    "data2sd <- array(someData, c(nIts, numLevelsVar1, numLevelsVar2));  "
   ]
  },
  {
   "cell_type": "markdown",
   "metadata": {},
   "source": [
    "### Read numeric data from spreadsheets"
   ]
  },
  {
   "cell_type": "markdown",
   "metadata": {},
   "source": [
    "##### Read data from first spreadsheet"
   ]
  },
  {
   "cell_type": "code",
   "execution_count": 42,
   "metadata": {},
   "outputs": [],
   "source": [
    "for(j in 1:numLevelsVar2){  \n",
    "  # Read ratio data from data1\n",
    "  currCol=2+setWidth*numReps*numLevelsVar1*(j-1)\n",
    "  for(n in 1:numLevelsVar1){  \n",
    "    for(m in 1:nIts){\n",
    "      for(p in 1:numReps){\n",
    "        temp[p] = suppressWarnings(as.numeric(data1[m+rowOffset,currCol+ratioOffset+setWidth*(p-1)]))\n",
    "      }\n",
    "      data1array[m,n,j]=mean(temp)\n",
    "      data1sd[m,n,j]=sd(temp)\n",
    "    }\n",
    "    currCol=currCol+numReps*setWidth\n",
    "  }\n",
    "  \n",
    "\n",
    "   # Read ratio data from data2\n",
    "  currCol=2+setWidth*numReps*numLevelsVar1*(j-1)\n",
    "  for(n in 1:numLevelsVar1){  # This seems to be working\n",
    "    for(m in 1:nIts){\n",
    "      for(p in 1:numReps){\n",
    "        temp[p] = suppressWarnings(as.numeric(data2[m+rowOffset,currCol+ratioOffset+setWidth*(p-1)]))\n",
    "      }\n",
    "      data2array[m,n,j]=mean(temp)\n",
    "      data2sd[m,n,j]=sd(temp)\n",
    "    }\n",
    "    currCol=currCol+numReps*setWidth\n",
    "  }\n",
    "}"
   ]
  },
  {
   "cell_type": "code",
   "execution_count": 43,
   "metadata": {
    "collapsed": true
   },
   "outputs": [],
   "source": [
    "#### Create plots"
   ]
  },
  {
   "cell_type": "code",
   "execution_count": 44,
   "metadata": {},
   "outputs": [
    {
     "data": {
      "image/png": "[encoded data removed]",
      "text/plain": [
       "Plot with title \"Ratio of RR activation\""
      ]
     },
     "metadata": {},
     "output_type": "display_data"
    }
   ],
   "source": [
    "library(repr)\n",
    "options(repr.plot.width=8, repr.plot.height=3) # Change plot size to 8 x 3\n",
    "par(mfrow=c(numLevelsVar2,numLevelsVar1))\n",
    "\n",
    "# i=0\n",
    "for(j in 1:numLevelsVar2){\n",
    "  for(k in 1:numLevelsVar1){\n",
    "#   i++\n",
    "  plot(data1array[,k,j], type=\"l\",lwd=2, col = \"blue\", xlim=c(0, 100), ylim=c(-1, 1.5),xlab = \"\", ylab = \"\")\n",
    "  lines(data2array[,k,j],type=\"l\",lwd=2, col = \"red\")\n",
    "  abline(h=0, lty=2)\n",
    "  str = \"Ratio of RR activation\"\n",
    "  xlab = \"Iteration number\"\n",
    "  ylab = \"Ratio of Response Regulator Activation\"\n",
    "  title(main=str, xlab=xlab, ylab=ylab) \n",
    "  }\n",
    "}"
   ]
  },
  {
   "cell_type": "markdown",
   "metadata": {},
   "source": [
    "#### Create summary matrices, and format the data to use elsewhere."
   ]
  },
  {
   "cell_type": "code",
   "execution_count": 45,
   "metadata": {},
   "outputs": [],
   "source": [
    "# Summarize data in a matrix\n",
    "summary1=matrix(0,100,3)\n",
    "summary1[,1]=data1array[,1,1]\n",
    "summary1[,2]=data1array[,2,1]\n",
    "summary1[,3]=data1array[,3,1]\n",
    "summary2=matrix(0,100,3)\n",
    "summary2[,1]=data2array[,1,1]\n",
    "summary2[,2]=data2array[,2,1]\n",
    "summary2[,3]=data2array[,3,1]\n",
    "\n",
    "# Format output for prism\n",
    "meanStdN_1=matrix(0,100,3)\n",
    "meanStdN_1[,1]=data1array[,3,1] # change number to look at different FC positions\n",
    "meanStdN_1[,2]=data1sd[,3,1]\n",
    "meanStdN_1[,3]=numReps\n",
    "meanStdN_2=matrix(0,100,3)\n",
    "meanStdN_2[,1]=data2array[,3,1]\n",
    "meanStdN_2[,2]=data2sd[,3,1]\n",
    "meanStdN_2[,3]=numReps"
   ]
  }
 ],
 "metadata": {
  "kernelspec": {
   "display_name": "R",
   "language": "R",
   "name": "ir"
  },
  "varInspector": {
   "cols": {
    "lenName": 16,
    "lenType": 16,
    "lenVar": 40
   },
   "kernels_config": {
    "python": {
     "delete_cmd_postfix": "",
     "delete_cmd_prefix": "del ",
     "library": "var_list.py",
     "varRefreshCmd": "print(var_dic_list())"
    },
    "r": {
     "delete_cmd_postfix": ") ",
     "delete_cmd_prefix": "rm(",
     "library": "var_list.r",
     "varRefreshCmd": "cat(var_dic_list()) "
    }
   },
   "types_to_exclude": [
    "module",
    "function",
    "builtin_function_or_method",
    "instance",
    "_Feature"
   ],
   "window_display": false
  }
 },
 "nbformat": 4,
 "nbformat_minor": 2
}
